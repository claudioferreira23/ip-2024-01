Questão 1

Leia (nota1, nota2, nota3)

Media <- (nota1 + nota2 + nota3)/3

Se Media >=

Imprime (Media)

Imprime ("Aprovado")

Se não

Imprime (Media)

Imprime ("Reprovado")

Questão 2

Leia (numeroDeJogos)

n <- 0

Enquanto (n < numeroDeJogos)

Leia (publicoGeral, porcentagemPopular, porcentagemGeral, porcentagemArquibancada, porcentagensCadeiras)

renda Total = (publico Total * porcentagemPopular * 1) + (publico Total * porcentagemGeral * 5) + (publico Total * porcentagemArquibancada * 10) + (publico Total * porcentagemCadeiras * 20)

Imprime (renda Total)

n <- n+1

Questão 3

Leia (n1, n2, n3)

Se n1, n2, n3 = 1 digito

Imprime (o numero calculado)

Imprime (o seu quadrado)

Se não

Imprime (DIGITO INVALIDO)

Questão 4

Leia (o valor do Salario minimo e a Quantidade de kW gasta)

100 kW = 0,7 do Salario minimo

Custo por kW = 0,007 do Salario minimo

Custo do consumo = kW gasto * 0,007 do Salario minimo

Custo com desconto = Custo do consumo - 10%

Imprime ("Custo por kW: R$" = 0,007 do Salario minimo)

Imprime ("Custo do consumo: R$" = kW gasto * 0,007 do Salario minimo)

Imprime ("Custo com desconto: R$" = Custo do consumo - 10%)

Questão 5

Leia (conta do cliente, consumo de agua por metros cubicos, consumidor(residencial, comercial e industrial))

Residencial: R5;00detaxamaisR 0,05 por metros cúbicos gastos

Comercial: R500;00paraosprimeiros80metroscubicosgastosmaisR 0,25 por metros cubicos gastos

Industrial: R800;00paraosprimeiros100metroscubicosgastosmaisR 0,04 por metros cúbicos gastos

Quando o consumidor for Residencial

Imprime (conta)

Imprime (valor da conta = 5 + 0,05 * metros cubicos gasto)

Quando o consumidor for Comercial

Se metros cubicos gasto <= 80

Imprime (conta)

Imprime (valor da conta = 500)

Se não

Imprime (conta)

Imprime (valor da conta = 500 + 0,25 * metros cubicos gasto)

Quando o consumidor for Industrial

Se metros cubicos gasto <= 100

Imprime (conta)

Imprime (valor da conta = 800)

Se não

Imprime (conta)

Imprime (800 + 0,04 * metros cubicos gasto)

Questão 6

Leia (temperatura em Fahrenheit)

F = temperatura em Fahrenheit

C = temperatura em Celsius

C = 5(F - 32)/9

Enquanto F for entrada

Imprime (temperatura em Fahrenheit com duas casas decimais "FAHRENHEIT EQUIVALE A" temperatura em Celsius "CELSIUS")

Questão 7

Leia (Fahrenheit, polegadas)

Celsius = (5 * (Fahrenheit - 32))/9

milimetros = polegadas * 25,4

Imprime ("O VALOR EM CELSIUS = valor em Celsius com duas casas decimais")

Imprime ("A QUANTIDADE DE CHUVA E = valor em milimetros com duas casas decimais")

Imprime ("\n")

Questão 8

Leia (raio da lata)

Leia (altura da lata)

Custo do aluminio por metro quadrado = 100,00

pi = 3,14159

Area do circulo = pi * raio ** 2

Area lateral = 2 * pi * raio * altura

Custo total = (2 * Area do circulo + Area lateral) * Custo do aluminio por metro quadrado

Imprime ("O VALOR DO CUSTO E = valor do Custo total com duas casas decimais")

Imprime ("\n")

Questão 9

Leia (A)

Leia (B)

Leia (C)

Delta = B ** 2 - 4 * A * C

Imprime ("O VALOR DE DELTA E = valor de Delta com duas casas decimais")

Imprime ("\n")

Questão 10

Leia (a)

Leia (b)

Leia (c)

Leia (d)

Determinante = a * d - b * c

Imprime ("O VALOR DA DETERMINANTE E = valor do determinante com duas casas decimais")

Imprime ("\n")

Questão 11

Leia (numero)

Se numero numero for divisivel tanto por 3 quanto por 5

Imprime ("O NUMERO E DIVISIVEL"\n)

Se não

Imprime ("O NUMERO NAO E DIVISIVEL")

Imprime("\n")

Questão 12

Leia(horas utilizadas)

Se horas utilizadas >= 3

Valor do aluguel = 10 * (horas utilizadas // 3) + 5 * (horas utilizadas % 3)

Imprime ("O VALOR A PAGAR E = Valor do aluguel com duas casas decimais")

Imprime ("\n")

Se não

Valor do aluguel = 5 * (horas utilizadas)

Imprime ("O VALOR A PAGAR E = Valor do aluguel com duas casas decimais")

Imprime ("\n")

Questão 13

Leia (nota)

Se nota >= 9

conceito = A

Se 7,5 =< nota < 9

conceito = B

Se 6 =< nota < 7,5

conceito = C

Se não

conceito = D

Imprime ("NOTA = nota com uma casa decimal CONCEITO = conceito")

Imprime ("\n")

Questão 14

Leia (altura da piramide)

Leia (comprimento da aresta do hexagono)

X = valor do volume da piramide em metros cubicos

Area da base = 3 * aresta2 * 30,5 / 2

Volume = (1/3) * Aresta da base * altura

Imprime ("O VOLUME DA PIRAMIDE E = X METROS CUBICOS")

Imprime ("\n")

Questão 15

Leia (N)

Se N esta entre 5 e 2000 então

Para cada número par i de 2 até N faça

Imprime (i, "^2 =", i^2)

Imprime("\n")

Questão 16

Leia (salario)

X = salario reajustado com duas casas decimais

Se salario <= 300

salario reajustado = salario * 1,5

Se não

salario reajustado = salario * 1,3

Imprime ("SALARIO COM REAJUSTE = X")

Imprime ("\n")

Questão 17

Leia (x, y)

x = primeiro numero inteiro

y = numero inteiro

Se x for divisivel por 2

Imprime ("x, uma sequencia de numeros pares")

Se não

Imprime ("O PRIMEIRO NUMERO NAO E PAR")

Questão 18

Leia (a1, r, n)

a1 = numero inicial

r = razão

n = numero de elementos da progressao

an = a1 + (n - 1) * r

Imprime ("valor dos n primeiros elementos da progressao")

Imprime ("\n")

Questão 19

Leia (n)

n = numero inteiro e positivo maior que 1

Se n <= 1

Imprime ("Numero invalido!")

Se não

Imprime ("o valor da soma com 6 casas decimais")

Questão 20

Leia (horas)

Leia (minutos)

Leia (segundos)

X = valor do tempo convertido em segundos

Tempo em segundos = horas * 3600 + minutos * 60 + segundos

Imprime ("O TEMPO EM SEGUNDOS E = "X)
